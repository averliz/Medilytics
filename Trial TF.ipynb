{
 "cells": [
  {
   "cell_type": "code",
   "execution_count": 1,
   "metadata": {},
   "outputs": [],
   "source": [
    "import tensorflow as tf\n",
    "from tensorflow import keras\n",
    "\n",
    "import pandas as pd\n",
    "import numpy as np\n",
    "import seaborn as sns\n",
    "import matplotlib.pyplot as plt\n",
    "%matplotlib inline"
   ]
  },
  {
   "cell_type": "code",
   "execution_count": 2,
   "metadata": {},
   "outputs": [],
   "source": [
    "pd.set_option('display.max_rows', None)"
   ]
  },
  {
   "cell_type": "code",
   "execution_count": 3,
   "metadata": {},
   "outputs": [],
   "source": [
    "df = pd.read_csv(\"FinalCleanedData.csv\")"
   ]
  },
  {
   "cell_type": "code",
   "execution_count": 4,
   "metadata": {},
   "outputs": [
    {
     "data": {
      "text/plain": [
       "(230423, 43)"
      ]
     },
     "execution_count": 4,
     "metadata": {},
     "output_type": "execute_result"
    }
   ],
   "source": [
    "df.shape"
   ]
  },
  {
   "cell_type": "code",
   "execution_count": 5,
   "metadata": {},
   "outputs": [
    {
     "data": {
      "text/html": [
       "<div>\n",
       "<style scoped>\n",
       "    .dataframe tbody tr th:only-of-type {\n",
       "        vertical-align: middle;\n",
       "    }\n",
       "\n",
       "    .dataframe tbody tr th {\n",
       "        vertical-align: top;\n",
       "    }\n",
       "\n",
       "    .dataframe thead th {\n",
       "        text-align: right;\n",
       "    }\n",
       "</style>\n",
       "<table border=\"1\" class=\"dataframe\">\n",
       "  <thead>\n",
       "    <tr style=\"text-align: right;\">\n",
       "      <th></th>\n",
       "      <th>RFHYPE5</th>\n",
       "      <th>RFCHOL2</th>\n",
       "      <th>MICHD</th>\n",
       "      <th>CVDSTRK3</th>\n",
       "      <th>CASTHM1</th>\n",
       "      <th>CHCSCNCR</th>\n",
       "      <th>CHCOCNCR</th>\n",
       "      <th>CHCCOPD2</th>\n",
       "      <th>CHCKDNY2</th>\n",
       "      <th>DIABETE4</th>\n",
       "      <th>...</th>\n",
       "      <th>RFDRHV7</th>\n",
       "      <th>TOTINDA</th>\n",
       "      <th>STRFREQ</th>\n",
       "      <th>FRUTDA2</th>\n",
       "      <th>FTJUDA2</th>\n",
       "      <th>GRENDA1</th>\n",
       "      <th>FRNCHDA</th>\n",
       "      <th>POTADA1</th>\n",
       "      <th>VEGEDA2</th>\n",
       "      <th>HIVRISK5</th>\n",
       "    </tr>\n",
       "  </thead>\n",
       "  <tbody>\n",
       "    <tr>\n",
       "      <th>count</th>\n",
       "      <td>230423.000000</td>\n",
       "      <td>230423.000000</td>\n",
       "      <td>230423.000000</td>\n",
       "      <td>230423.000000</td>\n",
       "      <td>230423.000000</td>\n",
       "      <td>230423.000000</td>\n",
       "      <td>230423.000000</td>\n",
       "      <td>230423.000000</td>\n",
       "      <td>230423.000000</td>\n",
       "      <td>230423.000000</td>\n",
       "      <td>...</td>\n",
       "      <td>230423.000000</td>\n",
       "      <td>230423.000000</td>\n",
       "      <td>230423.000000</td>\n",
       "      <td>230423.000000</td>\n",
       "      <td>230423.000000</td>\n",
       "      <td>230423.000000</td>\n",
       "      <td>230423.000000</td>\n",
       "      <td>230423.000000</td>\n",
       "      <td>230423.000000</td>\n",
       "      <td>230423.000000</td>\n",
       "    </tr>\n",
       "    <tr>\n",
       "      <th>mean</th>\n",
       "      <td>0.422210</td>\n",
       "      <td>0.386224</td>\n",
       "      <td>0.089939</td>\n",
       "      <td>0.041910</td>\n",
       "      <td>0.093402</td>\n",
       "      <td>0.107806</td>\n",
       "      <td>0.105389</td>\n",
       "      <td>0.080487</td>\n",
       "      <td>0.039302</td>\n",
       "      <td>0.143098</td>\n",
       "      <td>...</td>\n",
       "      <td>0.062602</td>\n",
       "      <td>0.755714</td>\n",
       "      <td>1.581457</td>\n",
       "      <td>1.140712</td>\n",
       "      <td>0.308895</td>\n",
       "      <td>0.619073</td>\n",
       "      <td>0.206683</td>\n",
       "      <td>0.237821</td>\n",
       "      <td>0.990586</td>\n",
       "      <td>1.961480</td>\n",
       "    </tr>\n",
       "    <tr>\n",
       "      <th>std</th>\n",
       "      <td>0.493913</td>\n",
       "      <td>0.486884</td>\n",
       "      <td>0.286095</td>\n",
       "      <td>0.200384</td>\n",
       "      <td>0.290996</td>\n",
       "      <td>0.310136</td>\n",
       "      <td>0.307054</td>\n",
       "      <td>0.272046</td>\n",
       "      <td>0.194312</td>\n",
       "      <td>0.350173</td>\n",
       "      <td>...</td>\n",
       "      <td>0.242247</td>\n",
       "      <td>0.429664</td>\n",
       "      <td>2.612202</td>\n",
       "      <td>1.484645</td>\n",
       "      <td>1.047712</td>\n",
       "      <td>1.203173</td>\n",
       "      <td>0.471625</td>\n",
       "      <td>0.524625</td>\n",
       "      <td>1.544723</td>\n",
       "      <td>0.192449</td>\n",
       "    </tr>\n",
       "    <tr>\n",
       "      <th>min</th>\n",
       "      <td>0.000000</td>\n",
       "      <td>0.000000</td>\n",
       "      <td>0.000000</td>\n",
       "      <td>0.000000</td>\n",
       "      <td>0.000000</td>\n",
       "      <td>0.000000</td>\n",
       "      <td>0.000000</td>\n",
       "      <td>0.000000</td>\n",
       "      <td>0.000000</td>\n",
       "      <td>0.000000</td>\n",
       "      <td>...</td>\n",
       "      <td>0.000000</td>\n",
       "      <td>0.000000</td>\n",
       "      <td>0.000000</td>\n",
       "      <td>0.000000</td>\n",
       "      <td>0.000000</td>\n",
       "      <td>0.000000</td>\n",
       "      <td>0.000000</td>\n",
       "      <td>0.000000</td>\n",
       "      <td>0.000000</td>\n",
       "      <td>1.000000</td>\n",
       "    </tr>\n",
       "    <tr>\n",
       "      <th>25%</th>\n",
       "      <td>0.000000</td>\n",
       "      <td>0.000000</td>\n",
       "      <td>0.000000</td>\n",
       "      <td>0.000000</td>\n",
       "      <td>0.000000</td>\n",
       "      <td>0.000000</td>\n",
       "      <td>0.000000</td>\n",
       "      <td>0.000000</td>\n",
       "      <td>0.000000</td>\n",
       "      <td>0.000000</td>\n",
       "      <td>...</td>\n",
       "      <td>0.000000</td>\n",
       "      <td>1.000000</td>\n",
       "      <td>0.000000</td>\n",
       "      <td>0.430000</td>\n",
       "      <td>0.000000</td>\n",
       "      <td>0.170000</td>\n",
       "      <td>0.030000</td>\n",
       "      <td>0.070000</td>\n",
       "      <td>0.430000</td>\n",
       "      <td>2.000000</td>\n",
       "    </tr>\n",
       "    <tr>\n",
       "      <th>50%</th>\n",
       "      <td>0.000000</td>\n",
       "      <td>0.000000</td>\n",
       "      <td>0.000000</td>\n",
       "      <td>0.000000</td>\n",
       "      <td>0.000000</td>\n",
       "      <td>0.000000</td>\n",
       "      <td>0.000000</td>\n",
       "      <td>0.000000</td>\n",
       "      <td>0.000000</td>\n",
       "      <td>0.000000</td>\n",
       "      <td>...</td>\n",
       "      <td>0.000000</td>\n",
       "      <td>1.000000</td>\n",
       "      <td>0.000000</td>\n",
       "      <td>1.000000</td>\n",
       "      <td>0.030000</td>\n",
       "      <td>0.430000</td>\n",
       "      <td>0.140000</td>\n",
       "      <td>0.140000</td>\n",
       "      <td>1.000000</td>\n",
       "      <td>2.000000</td>\n",
       "    </tr>\n",
       "    <tr>\n",
       "      <th>75%</th>\n",
       "      <td>1.000000</td>\n",
       "      <td>1.000000</td>\n",
       "      <td>0.000000</td>\n",
       "      <td>0.000000</td>\n",
       "      <td>0.000000</td>\n",
       "      <td>0.000000</td>\n",
       "      <td>0.000000</td>\n",
       "      <td>0.000000</td>\n",
       "      <td>0.000000</td>\n",
       "      <td>0.000000</td>\n",
       "      <td>...</td>\n",
       "      <td>0.000000</td>\n",
       "      <td>1.000000</td>\n",
       "      <td>3.000000</td>\n",
       "      <td>2.000000</td>\n",
       "      <td>0.290000</td>\n",
       "      <td>0.830000</td>\n",
       "      <td>0.290000</td>\n",
       "      <td>0.290000</td>\n",
       "      <td>1.000000</td>\n",
       "      <td>2.000000</td>\n",
       "    </tr>\n",
       "    <tr>\n",
       "      <th>max</th>\n",
       "      <td>1.000000</td>\n",
       "      <td>1.000000</td>\n",
       "      <td>1.000000</td>\n",
       "      <td>1.000000</td>\n",
       "      <td>1.000000</td>\n",
       "      <td>1.000000</td>\n",
       "      <td>1.000000</td>\n",
       "      <td>1.000000</td>\n",
       "      <td>1.000000</td>\n",
       "      <td>1.000000</td>\n",
       "      <td>...</td>\n",
       "      <td>1.000000</td>\n",
       "      <td>1.000000</td>\n",
       "      <td>88.000000</td>\n",
       "      <td>98.000000</td>\n",
       "      <td>90.000000</td>\n",
       "      <td>92.000000</td>\n",
       "      <td>50.000000</td>\n",
       "      <td>75.000000</td>\n",
       "      <td>90.000000</td>\n",
       "      <td>2.000000</td>\n",
       "    </tr>\n",
       "  </tbody>\n",
       "</table>\n",
       "<p>8 rows × 43 columns</p>\n",
       "</div>"
      ],
      "text/plain": [
       "             RFHYPE5        RFCHOL2          MICHD       CVDSTRK3  \\\n",
       "count  230423.000000  230423.000000  230423.000000  230423.000000   \n",
       "mean        0.422210       0.386224       0.089939       0.041910   \n",
       "std         0.493913       0.486884       0.286095       0.200384   \n",
       "min         0.000000       0.000000       0.000000       0.000000   \n",
       "25%         0.000000       0.000000       0.000000       0.000000   \n",
       "50%         0.000000       0.000000       0.000000       0.000000   \n",
       "75%         1.000000       1.000000       0.000000       0.000000   \n",
       "max         1.000000       1.000000       1.000000       1.000000   \n",
       "\n",
       "             CASTHM1       CHCSCNCR       CHCOCNCR       CHCCOPD2  \\\n",
       "count  230423.000000  230423.000000  230423.000000  230423.000000   \n",
       "mean        0.093402       0.107806       0.105389       0.080487   \n",
       "std         0.290996       0.310136       0.307054       0.272046   \n",
       "min         0.000000       0.000000       0.000000       0.000000   \n",
       "25%         0.000000       0.000000       0.000000       0.000000   \n",
       "50%         0.000000       0.000000       0.000000       0.000000   \n",
       "75%         0.000000       0.000000       0.000000       0.000000   \n",
       "max         1.000000       1.000000       1.000000       1.000000   \n",
       "\n",
       "            CHCKDNY2       DIABETE4  ...        RFDRHV7        TOTINDA  \\\n",
       "count  230423.000000  230423.000000  ...  230423.000000  230423.000000   \n",
       "mean        0.039302       0.143098  ...       0.062602       0.755714   \n",
       "std         0.194312       0.350173  ...       0.242247       0.429664   \n",
       "min         0.000000       0.000000  ...       0.000000       0.000000   \n",
       "25%         0.000000       0.000000  ...       0.000000       1.000000   \n",
       "50%         0.000000       0.000000  ...       0.000000       1.000000   \n",
       "75%         0.000000       0.000000  ...       0.000000       1.000000   \n",
       "max         1.000000       1.000000  ...       1.000000       1.000000   \n",
       "\n",
       "             STRFREQ        FRUTDA2        FTJUDA2        GRENDA1  \\\n",
       "count  230423.000000  230423.000000  230423.000000  230423.000000   \n",
       "mean        1.581457       1.140712       0.308895       0.619073   \n",
       "std         2.612202       1.484645       1.047712       1.203173   \n",
       "min         0.000000       0.000000       0.000000       0.000000   \n",
       "25%         0.000000       0.430000       0.000000       0.170000   \n",
       "50%         0.000000       1.000000       0.030000       0.430000   \n",
       "75%         3.000000       2.000000       0.290000       0.830000   \n",
       "max        88.000000      98.000000      90.000000      92.000000   \n",
       "\n",
       "             FRNCHDA        POTADA1        VEGEDA2       HIVRISK5  \n",
       "count  230423.000000  230423.000000  230423.000000  230423.000000  \n",
       "mean        0.206683       0.237821       0.990586       1.961480  \n",
       "std         0.471625       0.524625       1.544723       0.192449  \n",
       "min         0.000000       0.000000       0.000000       1.000000  \n",
       "25%         0.030000       0.070000       0.430000       2.000000  \n",
       "50%         0.140000       0.140000       1.000000       2.000000  \n",
       "75%         0.290000       0.290000       1.000000       2.000000  \n",
       "max        50.000000      75.000000      90.000000       2.000000  \n",
       "\n",
       "[8 rows x 43 columns]"
      ]
     },
     "execution_count": 5,
     "metadata": {},
     "output_type": "execute_result"
    }
   ],
   "source": [
    "df.describe()"
   ]
  },
  {
   "cell_type": "code",
   "execution_count": 6,
   "metadata": {},
   "outputs": [],
   "source": [
    "all_col = ['RFHYPE5', 'RFCHOL2', 'MICHD', 'CVDSTRK3', 'CASTHM1', 'CHCSCNCR',\n",
    "       'CHCOCNCR', 'CHCCOPD2', 'CHCKDNY2', 'DIABETE4', 'DRDXAR2', 'SEXVAR',\n",
    "       'GENHLTH', 'PHYS14D', 'MENT14D', 'POORHLTH', 'HLTHPLN1', 'PERSDOC2',\n",
    "       'MEDCOST', 'CHECKUP1', 'MARITAL', 'EDUCA', 'RENTHOM1', 'VETERAN3',\n",
    "       'EMPLOY1', 'CHLDCNT', 'INCOME2', 'WTKG3', 'HTM4', 'PREGNANT', 'DEAF',\n",
    "       'BLIND', 'RFSMOK3', 'RFDRHV7', 'TOTINDA', 'STRFREQ', 'FRUTDA2',\n",
    "       'FTJUDA2', 'GRENDA1', 'FRNCHDA', 'POTADA1', 'VEGEDA2', 'HIVRISK5']"
   ]
  },
  {
   "cell_type": "code",
   "execution_count": 7,
   "metadata": {},
   "outputs": [],
   "source": [
    "x_col = ['RFHYPE5', 'RFCHOL2', 'CASTHM1', 'CHCSCNCR', 'CHCOCNCR', 'DRDXAR2',\n",
    "       'SEXVAR', 'GENHLTH', 'PHYS14D', 'MENT14D', 'POORHLTH', 'HLTHPLN1',\n",
    "       'PERSDOC2', 'MEDCOST', 'CHECKUP1', 'MARITAL', 'EDUCA', 'RENTHOM1',\n",
    "       'VETERAN3', 'EMPLOY1', 'CHLDCNT', 'INCOME2', 'WTKG3', 'HTM4',\n",
    "       'PREGNANT', 'DEAF', 'BLIND', 'RFSMOK3', 'RFDRHV7', 'TOTINDA', 'STRFREQ',\n",
    "       'FRUTDA2', 'FTJUDA2', 'GRENDA1', 'FRNCHDA', 'POTADA1', 'VEGEDA2',\n",
    "       'HIVRISK5']"
   ]
  },
  {
   "cell_type": "code",
   "execution_count": 8,
   "metadata": {},
   "outputs": [],
   "source": [
    "target_d = [\"MICHD\", \"CHCCOPD2\", \"CHCKDNY2\", \"CVDSTRK3\", \"DIABETE4\"]\n",
    "# heart disease - MICHD , lung disease - CHCCOPD2, kidney disease - CHCKDNY2, \n",
    "# stroke - CVDSTRK3, diabetes - DIABETE4"
   ]
  },
  {
   "cell_type": "code",
   "execution_count": 9,
   "metadata": {},
   "outputs": [
    {
     "data": {
      "text/plain": [
       "RFHYPE5       int64\n",
       "RFCHOL2       int64\n",
       "MICHD         int64\n",
       "CVDSTRK3      int64\n",
       "CASTHM1       int64\n",
       "CHCSCNCR      int64\n",
       "CHCOCNCR      int64\n",
       "CHCCOPD2      int64\n",
       "CHCKDNY2      int64\n",
       "DIABETE4      int64\n",
       "DRDXAR2       int64\n",
       "SEXVAR        int64\n",
       "GENHLTH       int64\n",
       "PHYS14D       int64\n",
       "MENT14D       int64\n",
       "POORHLTH      int64\n",
       "HLTHPLN1      int64\n",
       "PERSDOC2      int64\n",
       "MEDCOST       int64\n",
       "CHECKUP1      int64\n",
       "MARITAL       int64\n",
       "EDUCA         int64\n",
       "RENTHOM1      int64\n",
       "VETERAN3      int64\n",
       "EMPLOY1       int64\n",
       "CHLDCNT       int64\n",
       "INCOME2       int64\n",
       "WTKG3         int64\n",
       "HTM4          int64\n",
       "PREGNANT      int64\n",
       "DEAF          int64\n",
       "BLIND         int64\n",
       "RFSMOK3       int64\n",
       "RFDRHV7       int64\n",
       "TOTINDA       int64\n",
       "STRFREQ     float64\n",
       "FRUTDA2     float64\n",
       "FTJUDA2     float64\n",
       "GRENDA1     float64\n",
       "FRNCHDA     float64\n",
       "POTADA1     float64\n",
       "VEGEDA2     float64\n",
       "HIVRISK5      int64\n",
       "dtype: object"
      ]
     },
     "execution_count": 9,
     "metadata": {},
     "output_type": "execute_result"
    }
   ],
   "source": [
    "df.dtypes\n",
    "#all are int64"
   ]
  },
  {
   "cell_type": "code",
   "execution_count": 10,
   "metadata": {},
   "outputs": [
    {
     "data": {
      "text/html": [
       "<div>\n",
       "<style scoped>\n",
       "    .dataframe tbody tr th:only-of-type {\n",
       "        vertical-align: middle;\n",
       "    }\n",
       "\n",
       "    .dataframe tbody tr th {\n",
       "        vertical-align: top;\n",
       "    }\n",
       "\n",
       "    .dataframe thead th {\n",
       "        text-align: right;\n",
       "    }\n",
       "</style>\n",
       "<table border=\"1\" class=\"dataframe\">\n",
       "  <thead>\n",
       "    <tr style=\"text-align: right;\">\n",
       "      <th></th>\n",
       "      <th>RFHYPE5</th>\n",
       "      <th>RFCHOL2</th>\n",
       "      <th>MICHD</th>\n",
       "      <th>CVDSTRK3</th>\n",
       "      <th>CASTHM1</th>\n",
       "      <th>CHCSCNCR</th>\n",
       "      <th>CHCOCNCR</th>\n",
       "      <th>CHCCOPD2</th>\n",
       "      <th>CHCKDNY2</th>\n",
       "      <th>DIABETE4</th>\n",
       "      <th>...</th>\n",
       "      <th>RFDRHV7</th>\n",
       "      <th>TOTINDA</th>\n",
       "      <th>STRFREQ</th>\n",
       "      <th>FRUTDA2</th>\n",
       "      <th>FTJUDA2</th>\n",
       "      <th>GRENDA1</th>\n",
       "      <th>FRNCHDA</th>\n",
       "      <th>POTADA1</th>\n",
       "      <th>VEGEDA2</th>\n",
       "      <th>HIVRISK5</th>\n",
       "    </tr>\n",
       "  </thead>\n",
       "  <tbody>\n",
       "  </tbody>\n",
       "</table>\n",
       "<p>0 rows × 43 columns</p>\n",
       "</div>"
      ],
      "text/plain": [
       "Empty DataFrame\n",
       "Columns: [RFHYPE5, RFCHOL2, MICHD, CVDSTRK3, CASTHM1, CHCSCNCR, CHCOCNCR, CHCCOPD2, CHCKDNY2, DIABETE4, DRDXAR2, SEXVAR, GENHLTH, PHYS14D, MENT14D, POORHLTH, HLTHPLN1, PERSDOC2, MEDCOST, CHECKUP1, MARITAL, EDUCA, RENTHOM1, VETERAN3, EMPLOY1, CHLDCNT, INCOME2, WTKG3, HTM4, PREGNANT, DEAF, BLIND, RFSMOK3, RFDRHV7, TOTINDA, STRFREQ, FRUTDA2, FTJUDA2, GRENDA1, FRNCHDA, POTADA1, VEGEDA2, HIVRISK5]\n",
       "Index: []\n",
       "\n",
       "[0 rows x 43 columns]"
      ]
     },
     "execution_count": 10,
     "metadata": {},
     "output_type": "execute_result"
    }
   ],
   "source": [
    "df[df.isna().any(axis=1)]\n",
    "# all no NA values"
   ]
  },
  {
   "cell_type": "code",
   "execution_count": 11,
   "metadata": {},
   "outputs": [
    {
     "data": {
      "text/html": [
       "<div>\n",
       "<style scoped>\n",
       "    .dataframe tbody tr th:only-of-type {\n",
       "        vertical-align: middle;\n",
       "    }\n",
       "\n",
       "    .dataframe tbody tr th {\n",
       "        vertical-align: top;\n",
       "    }\n",
       "\n",
       "    .dataframe thead th {\n",
       "        text-align: right;\n",
       "    }\n",
       "</style>\n",
       "<table border=\"1\" class=\"dataframe\">\n",
       "  <thead>\n",
       "    <tr style=\"text-align: right;\">\n",
       "      <th></th>\n",
       "      <th>RFHYPE5</th>\n",
       "      <th>RFCHOL2</th>\n",
       "      <th>MICHD</th>\n",
       "      <th>CVDSTRK3</th>\n",
       "      <th>CASTHM1</th>\n",
       "      <th>CHCSCNCR</th>\n",
       "      <th>CHCOCNCR</th>\n",
       "      <th>CHCCOPD2</th>\n",
       "      <th>CHCKDNY2</th>\n",
       "      <th>DIABETE4</th>\n",
       "      <th>...</th>\n",
       "      <th>RFDRHV7</th>\n",
       "      <th>TOTINDA</th>\n",
       "      <th>STRFREQ</th>\n",
       "      <th>FRUTDA2</th>\n",
       "      <th>FTJUDA2</th>\n",
       "      <th>GRENDA1</th>\n",
       "      <th>FRNCHDA</th>\n",
       "      <th>POTADA1</th>\n",
       "      <th>VEGEDA2</th>\n",
       "      <th>HIVRISK5</th>\n",
       "    </tr>\n",
       "  </thead>\n",
       "  <tbody>\n",
       "  </tbody>\n",
       "</table>\n",
       "<p>0 rows × 43 columns</p>\n",
       "</div>"
      ],
      "text/plain": [
       "Empty DataFrame\n",
       "Columns: [RFHYPE5, RFCHOL2, MICHD, CVDSTRK3, CASTHM1, CHCSCNCR, CHCOCNCR, CHCCOPD2, CHCKDNY2, DIABETE4, DRDXAR2, SEXVAR, GENHLTH, PHYS14D, MENT14D, POORHLTH, HLTHPLN1, PERSDOC2, MEDCOST, CHECKUP1, MARITAL, EDUCA, RENTHOM1, VETERAN3, EMPLOY1, CHLDCNT, INCOME2, WTKG3, HTM4, PREGNANT, DEAF, BLIND, RFSMOK3, RFDRHV7, TOTINDA, STRFREQ, FRUTDA2, FTJUDA2, GRENDA1, FRNCHDA, POTADA1, VEGEDA2, HIVRISK5]\n",
       "Index: []\n",
       "\n",
       "[0 rows x 43 columns]"
      ]
     },
     "execution_count": 11,
     "metadata": {},
     "output_type": "execute_result"
    }
   ],
   "source": [
    "df[df.isnull().any(axis=1)]\n",
    "# no null values"
   ]
  },
  {
   "cell_type": "code",
   "execution_count": 12,
   "metadata": {},
   "outputs": [],
   "source": [
    "# for i in range(43):\n",
    "#     df[f'{all_col[i]}'] = df[f'{all_col[i]}'].astype('category')\n",
    "# df.dtypes"
   ]
  },
  {
   "cell_type": "code",
   "execution_count": 13,
   "metadata": {
    "scrolled": true
   },
   "outputs": [],
   "source": [
    "X = df.drop(target_d, axis=1)\n",
    "y = df[target_d]"
   ]
  },
  {
   "cell_type": "code",
   "execution_count": 14,
   "metadata": {},
   "outputs": [
    {
     "data": {
      "image/png": "[encoded data removed]",
      "text/plain": [
       "<Figure size 360x360 with 1 Axes>"
      ]
     },
     "metadata": {
      "needs_background": "light"
     },
     "output_type": "display_data"
    },
    {
     "data": {
      "image/png": "[encoded data removed]",
      "text/plain": [
       "<Figure size 360x360 with 1 Axes>"
      ]
     },
     "metadata": {
      "needs_background": "light"
     },
     "output_type": "display_data"
    },
    {
     "data": {
      "image/png": "[encoded data removed]",
      "text/plain": [
       "<Figure size 360x360 with 1 Axes>"
      ]
     },
     "metadata": {
      "needs_background": "light"
     },
     "output_type": "display_data"
    },
    {
     "data": {
      "image/png": "[encoded data removed]",
      "text/plain": [
       "<Figure size 360x360 with 1 Axes>"
      ]
     },
     "metadata": {
      "needs_background": "light"
     },
     "output_type": "display_data"
    },
    {
     "data": {
      "image/png": "[encoded data removed]",
      "text/plain": [
       "<Figure size 360x360 with 1 Axes>"
      ]
     },
     "metadata": {
      "needs_background": "light"
     },
     "output_type": "display_data"
    }
   ],
   "source": [
    "for x in range(len(target_d)):\n",
    "    sns.catplot(x= df[target_d[x]], kind=\"count\", palette=\"ch:.25\", data=df)\n",
    "    \n",
    "#from simple countplots, we can see that there are imbalances in the dataset"
   ]
  },
  {
   "cell_type": "code",
   "execution_count": 15,
   "metadata": {},
   "outputs": [
    {
     "name": "stdout",
     "output_type": "stream",
     "text": [
      "0    0.91\n",
      "1    0.09\n",
      "Name: MICHD, dtype: float64\n",
      "0    0.92\n",
      "1    0.08\n",
      "Name: CHCCOPD2, dtype: float64\n",
      "0    0.96\n",
      "1    0.04\n",
      "Name: CHCKDNY2, dtype: float64\n",
      "0    0.96\n",
      "1    0.04\n",
      "Name: CVDSTRK3, dtype: float64\n",
      "0    0.86\n",
      "1    0.14\n",
      "Name: DIABETE4, dtype: float64\n"
     ]
    }
   ],
   "source": [
    "# exact extent of imbalance\n",
    "for i in range(len(target_d)):\n",
    "    print(round(df[f'{target_d[i]}'].value_counts() / len(df), 2)) \n",
    "# very imbalanced, mostly in the 90/10 range."
   ]
  },
  {
   "cell_type": "markdown",
   "metadata": {},
   "source": [
    "# Data Exp"
   ]
  },
  {
   "cell_type": "markdown",
   "metadata": {},
   "source": [
    "# SMOTE "
   ]
  },
  {
   "cell_type": "code",
   "execution_count": 16,
   "metadata": {},
   "outputs": [],
   "source": [
    "from sklearn.model_selection import train_test_split\n",
    "# creating a set of un-smoted test data for later testing"
   ]
  },
  {
   "cell_type": "code",
   "execution_count": 17,
   "metadata": {},
   "outputs": [],
   "source": [
    "X0_train, X0_test, y0_train, y0_test = \\\n",
    "train_test_split(X,df[target_d[0]],test_size=0.3,random_state=42)"
   ]
  },
  {
   "cell_type": "code",
   "execution_count": 18,
   "metadata": {},
   "outputs": [],
   "source": [
    "X1_train, X1_test, y1_train, y1_test = \\\n",
    "train_test_split(X,df[target_d[1]],test_size=0.3,random_state=42)"
   ]
  },
  {
   "cell_type": "code",
   "execution_count": 19,
   "metadata": {},
   "outputs": [],
   "source": [
    "X2_train, X2_test, y2_train, y2_test = \\\n",
    "train_test_split(X,df[target_d[2]],test_size=0.3,random_state=42)"
   ]
  },
  {
   "cell_type": "code",
   "execution_count": 20,
   "metadata": {},
   "outputs": [],
   "source": [
    "X3_train, X3_test, y3_train, y3_test = \\\n",
    "train_test_split(X,df[target_d[3]],test_size=0.3,random_state=42)"
   ]
  },
  {
   "cell_type": "code",
   "execution_count": 21,
   "metadata": {},
   "outputs": [],
   "source": [
    "X4_train, X4_test, y4_train, y4_test = \\\n",
    "train_test_split(X,df[target_d[4]],test_size=0.3,random_state=42)"
   ]
  },
  {
   "cell_type": "code",
   "execution_count": 22,
   "metadata": {},
   "outputs": [],
   "source": [
    "from imblearn.over_sampling import SMOTE\n",
    "oversample = SMOTE()\n",
    "# possible issue, the rows can have more than 1 disease so.... still smote?"
   ]
  },
  {
   "cell_type": "code",
   "execution_count": 23,
   "metadata": {},
   "outputs": [],
   "source": [
    "# for i in range(5):\n",
    "#     Xi, y_i = oversample.fit_resample(X, df[target_d[i]])"
   ]
  },
  {
   "cell_type": "code",
   "execution_count": 24,
   "metadata": {},
   "outputs": [],
   "source": [
    "X0_os, y0_os = oversample.fit_resample(X0_train, y0_train)\n",
    "# print(round(X1[f'{target_d[1]}'].value_counts() / len(X1), 2))"
   ]
  },
  {
   "cell_type": "code",
   "execution_count": 25,
   "metadata": {},
   "outputs": [
    {
     "name": "stdout",
     "output_type": "stream",
     "text": [
      "MICHD\n",
      "Before SMOTE : Counter({0: 146840, 1: 14456})\n",
      "After SMOTE : Counter({0: 146840, 1: 146840})\n"
     ]
    }
   ],
   "source": [
    "from collections import Counter\n",
    "print(\"MICHD\")\n",
    "print(\"Before SMOTE :\", Counter(y0_train))\n",
    "print(\"After SMOTE :\", Counter(y0_os))"
   ]
  },
  {
   "cell_type": "code",
   "execution_count": 26,
   "metadata": {},
   "outputs": [],
   "source": [
    "X1_os, y1_os = oversample.fit_resample(X1_train, y1_train)\n",
    "X2_os, y2_os = oversample.fit_resample(X2_train, y2_train)\n",
    "X3_os, y3_os = oversample.fit_resample(X3_train, y3_train)\n",
    "X4_os, y4_os = oversample.fit_resample(X4_train, y4_train)\n",
    "# SMOTE all"
   ]
  },
  {
   "cell_type": "code",
   "execution_count": 27,
   "metadata": {},
   "outputs": [
    {
     "name": "stdout",
     "output_type": "stream",
     "text": [
      "CHCCOPD2\n",
      "Before SMOTE : Counter({0: 148406, 1: 12890})\n",
      "After SMOTE : Counter({0: 148406, 1: 148406})\n",
      "CHCKDNY2\n",
      "Before SMOTE : Counter({0: 154913, 1: 6383})\n",
      "After SMOTE : Counter({0: 154913, 1: 154913})\n",
      "CVDSTRK3\n",
      "Before SMOTE : Counter({0: 154549, 1: 6747})\n",
      "After SMOTE : Counter({0: 154549, 1: 154549})\n",
      "DIABETE4\n",
      "Before SMOTE : Counter({0: 138138, 1: 23158})\n",
      "After SMOTE : Counter({0: 138138, 1: 138138})\n"
     ]
    }
   ],
   "source": [
    "print(\"CHCCOPD2\")\n",
    "print(\"Before SMOTE :\", Counter(y1_train))\n",
    "print(\"After SMOTE :\", Counter(y1_os))\n",
    "print(\"CHCKDNY2\")\n",
    "print(\"Before SMOTE :\", Counter(y2_train))\n",
    "print(\"After SMOTE :\", Counter(y2_os))\n",
    "print(\"CVDSTRK3\")\n",
    "print(\"Before SMOTE :\", Counter(y3_train))\n",
    "print(\"After SMOTE :\", Counter(y3_os))\n",
    "print(\"DIABETE4\")\n",
    "print(\"Before SMOTE :\", Counter(y4_train))\n",
    "print(\"After SMOTE :\", Counter(y4_os))"
   ]
  },
  {
   "cell_type": "code",
   "execution_count": 28,
   "metadata": {},
   "outputs": [],
   "source": [
    "# future for loops\n",
    "x_train_list_os = [\"X0_os\",\"X1_os\",\"X2_os\",\"X3_os\",\"X4_os\"]\n",
    "x_test_list = [\"X0_test\",\"X1_test\",\"X2_test\",\"X3_test\",\"X4_test\"]\n",
    "y_train_list_os = [\"y0_os\",\"y1_os\",\"y2_os\",\"y3_os\",\"y4_os\"]\n",
    "y_test_list = [\"y0_test\",\"y1_test\",\"y2_test\",\"y3_test\",\"y4_test\"]"
   ]
  },
  {
   "cell_type": "markdown",
   "metadata": {},
   "source": [
    "## Start of NN"
   ]
  },
  {
   "cell_type": "code",
   "execution_count": 29,
   "metadata": {
    "scrolled": true
   },
   "outputs": [
    {
     "data": {
      "text/plain": [
       "(293680, 38)"
      ]
     },
     "execution_count": 29,
     "metadata": {},
     "output_type": "execute_result"
    }
   ],
   "source": [
    "# Source: https://www.youtube.com/watch?v=aBIGJeHRZLQ\n",
    "X0_os.shape\n",
    "# for input shape"
   ]
  },
  {
   "cell_type": "code",
   "execution_count": 30,
   "metadata": {},
   "outputs": [],
   "source": [
    "# X0_stack = np.column_stack(X0_os['RFHYPE5'], X0_os['RFCHOL2'], X0_os['CASTHM1'], X0_os['CHCSCNCR'], X0_os['CHCOCNCR'], X0_os['DRDXAR2'], X0_os['SEXVAR'], X0_os['GENHLTH'], X0_os['PHYS14D'], X0_os['MENT14D'], X0_os['POORHLTH'], X0_os['HLTHPLN1'], X0_os['PERSDOC2'], X0_os['MEDCOST'], X0_os['CHECKUP1'], X0_os['MARITAL'], X0_os['EDUCA'], X0_os['RENTHOM1'], X0_os['VETERAN3'], X0_os['EMPLOY1'], X0_os['CHLDCNT'], X0_os['INCOME2'], X0_os['WTKG3'], X0_os['HTM4'], X0_os['PREGNANT'], X0_os['DEAF'], X0_os['BLIND'], X0_os['RFSMOK3'], X0_os['RFDRHV7'], X0_os['TOTINDA'], X0_os['STRFREQ'], X0_os['FRUTDA2'], X0_os['FTJUDA2'], X0_os['GRENDA1'], X0_os['FRNCHDA'], X0_os['POTADA1'], X0_os['VEGEDA2'], X0_os['HIVRISK5'])"
   ]
  },
  {
   "cell_type": "code",
   "execution_count": 31,
   "metadata": {},
   "outputs": [],
   "source": [
    "model = keras.Sequential([\n",
    "    keras.layers.Dense(64, input_shape=(38,), activation='relu'),\n",
    "    keras.layers.Dense(64, activation='relu'),\n",
    "    keras.layers.Dense(2, activation='sigmoid')])\n",
    "\n",
    "#final layer = 2 because for each NN we are making, its for 1 disease thus its either Yes/No."
   ]
  },
  {
   "cell_type": "code",
   "execution_count": 32,
   "metadata": {},
   "outputs": [],
   "source": [
    "model.compile(optimizer='adam', \n",
    "\t          loss=keras.losses.SparseCategoricalCrossentropy(from_logits=True),\n",
    "\t          metrics=['accuracy'])"
   ]
  },
  {
   "cell_type": "code",
   "execution_count": 33,
   "metadata": {},
   "outputs": [],
   "source": [
    "# x = np.column_stack((train_df.x.values, train_df.y.values))"
   ]
  },
  {
   "cell_type": "code",
   "execution_count": 34,
   "metadata": {},
   "outputs": [
    {
     "name": "stdout",
     "output_type": "stream",
     "text": [
      "Epoch 1/10\n",
      "18355/18355 [==============================] - 18s 955us/step - loss: 7.1070 - accuracy: 0.6027\n",
      "Epoch 2/10\n",
      "18355/18355 [==============================] - 17s 942us/step - loss: 0.6417 - accuracy: 0.7223\n",
      "Epoch 3/10\n",
      "18355/18355 [==============================] - 18s 964us/step - loss: 0.4816 - accuracy: 0.7706\n",
      "Epoch 4/10\n",
      "18355/18355 [==============================] - 18s 954us/step - loss: 0.4645 - accuracy: 0.7818\n",
      "Epoch 5/10\n",
      "18355/18355 [==============================] - 17s 948us/step - loss: 0.4609 - accuracy: 0.7845\n",
      "Epoch 6/10\n",
      "18355/18355 [==============================] - 17s 940us/step - loss: 0.4571 - accuracy: 0.7867\n",
      "Epoch 7/10\n",
      "18355/18355 [==============================] - 17s 940us/step - loss: 0.4532 - accuracy: 0.7886\n",
      "Epoch 8/10\n",
      "18355/18355 [==============================] - 17s 943us/step - loss: 0.4485 - accuracy: 0.7916\n",
      "Epoch 9/10\n",
      "18355/18355 [==============================] - 17s 940us/step - loss: 0.4479 - accuracy: 0.7917\n",
      "Epoch 10/10\n",
      "18355/18355 [==============================] - 17s 938us/step - loss: 0.4432 - accuracy: 0.7949\n"
     ]
    },
    {
     "data": {
      "text/plain": [
       "<tensorflow.python.keras.callbacks.History at 0x20c25bcd790>"
      ]
     },
     "execution_count": 34,
     "metadata": {},
     "output_type": "execute_result"
    }
   ],
   "source": [
    "# https://machinelearningmastery.com/difference-between-a-batch-and-an-epoch/\n",
    "# Fit for MICHD\n",
    "model.fit(X0_os.values, y0_os.values, batch_size=16, epochs=10)"
   ]
  },
  {
   "cell_type": "code",
   "execution_count": 35,
   "metadata": {},
   "outputs": [
    {
     "name": "stdout",
     "output_type": "stream",
     "text": [
      "EVALUATION\n",
      "2161/2161 [==============================] - 2s 763us/step - loss: 0.4283 - accuracy: 0.8021\n"
     ]
    },
    {
     "data": {
      "text/plain": [
       "[0.4282779395580292, 0.8020744323730469]"
      ]
     },
     "execution_count": 35,
     "metadata": {},
     "output_type": "execute_result"
    }
   ],
   "source": [
    "print(\"EVALUATION\")\n",
    "model.evaluate(X0_test.values, y0_test.values)"
   ]
  },
  {
   "cell_type": "code",
   "execution_count": 36,
   "metadata": {},
   "outputs": [
    {
     "name": "stdout",
     "output_type": "stream",
     "text": [
      "Epoch 1/10\n",
      "18551/18551 [==============================] - 27s 1ms/step - loss: 0.4695 - accuracy: 0.7804\n",
      "Epoch 2/10\n",
      "18551/18551 [==============================] - 25s 1ms/step - loss: 0.4457 - accuracy: 0.7957\n",
      "Epoch 3/10\n",
      "18551/18551 [==============================] - 25s 1ms/step - loss: 0.4395 - accuracy: 0.7994\n",
      "Epoch 4/10\n",
      "18551/18551 [==============================] - 25s 1ms/step - loss: 0.4349 - accuracy: 0.8018\n",
      "Epoch 5/10\n",
      "18551/18551 [==============================] - 25s 1ms/step - loss: 0.4335 - accuracy: 0.8029\n",
      "Epoch 6/10\n",
      "18551/18551 [==============================] - 26s 1ms/step - loss: 0.4329 - accuracy: 0.8031\n",
      "Epoch 7/10\n",
      "18551/18551 [==============================] - 25s 1ms/step - loss: 0.4324 - accuracy: 0.8033\n",
      "Epoch 8/10\n",
      "18551/18551 [==============================] - 25s 1ms/step - loss: 0.4310 - accuracy: 0.8034\n",
      "Epoch 9/10\n",
      "18551/18551 [==============================] - 25s 1ms/step - loss: 0.4306 - accuracy: 0.8041\n",
      "Epoch 10/10\n",
      "18551/18551 [==============================] - 25s 1ms/step - loss: 0.4298 - accuracy: 0.8047\n"
     ]
    },
    {
     "data": {
      "text/plain": [
       "<tensorflow.python.keras.callbacks.History at 0x20c2615adc0>"
      ]
     },
     "execution_count": 36,
     "metadata": {},
     "output_type": "execute_result"
    }
   ],
   "source": [
    "# Fit for CHCCOPD2\n",
    "model.fit(X1_os.values, y1_os.values, batch_size=16, epochs=10)"
   ]
  },
  {
   "cell_type": "code",
   "execution_count": 37,
   "metadata": {},
   "outputs": [
    {
     "name": "stdout",
     "output_type": "stream",
     "text": [
      "EVALUATION\n",
      "2161/2161 [==============================] - 2s 782us/step - loss: 0.4457 - accuracy: 0.7932\n"
     ]
    },
    {
     "data": {
      "text/plain": [
       "[0.44569846987724304, 0.7932211756706238]"
      ]
     },
     "execution_count": 37,
     "metadata": {},
     "output_type": "execute_result"
    }
   ],
   "source": [
    "print(\"EVALUATION\")\n",
    "model.evaluate(X1_test.values, y1_test.values)"
   ]
  },
  {
   "cell_type": "code",
   "execution_count": 38,
   "metadata": {},
   "outputs": [
    {
     "name": "stdout",
     "output_type": "stream",
     "text": [
      "Epoch 1/10\n",
      "19365/19365 [==============================] - 26s 1ms/step - loss: 0.4649 - accuracy: 0.7827\n",
      "Epoch 2/10\n",
      "19365/19365 [==============================] - 26s 1ms/step - loss: 0.4446 - accuracy: 0.7948\n",
      "Epoch 3/10\n",
      "19365/19365 [==============================] - 26s 1ms/step - loss: 0.4350 - accuracy: 0.8005\n",
      "Epoch 4/10\n",
      "19365/19365 [==============================] - 27s 1ms/step - loss: 0.4314 - accuracy: 0.8028\n",
      "Epoch 5/10\n",
      "19365/19365 [==============================] - 26s 1ms/step - loss: 0.4291 - accuracy: 0.8041\n",
      "Epoch 6/10\n",
      "19365/19365 [==============================] - 27s 1ms/step - loss: 0.4276 - accuracy: 0.8046\n",
      "Epoch 7/10\n",
      "19365/19365 [==============================] - 27s 1ms/step - loss: 0.4267 - accuracy: 0.8052 0s - loss: 0.4\n",
      "Epoch 8/10\n",
      "19365/19365 [==============================] - 26s 1ms/step - loss: 0.4248 - accuracy: 0.8065\n",
      "Epoch 9/10\n",
      "19365/19365 [==============================] - 26s 1ms/step - loss: 0.4250 - accuracy: 0.8067\n",
      "Epoch 10/10\n",
      "19365/19365 [==============================] - 26s 1ms/step - loss: 0.4247 - accuracy: 0.8069\n"
     ]
    },
    {
     "data": {
      "text/plain": [
       "<tensorflow.python.keras.callbacks.History at 0x20c264784c0>"
      ]
     },
     "execution_count": 38,
     "metadata": {},
     "output_type": "execute_result"
    }
   ],
   "source": [
    "# Fit for CHCKDNY2\n",
    "model.fit(X2_os.values, y2_os.values, batch_size=16, epochs=10)"
   ]
  },
  {
   "cell_type": "code",
   "execution_count": 44,
   "metadata": {},
   "outputs": [
    {
     "name": "stdout",
     "output_type": "stream",
     "text": [
      "EVALUATION\n",
      "2161/2161 [==============================] - 2s 789us/step - loss: 0.5482 - accuracy: 0.7199\n"
     ]
    },
    {
     "data": {
      "text/plain": [
       "[0.5482375025749207, 0.7199212908744812]"
      ]
     },
     "execution_count": 44,
     "metadata": {},
     "output_type": "execute_result"
    }
   ],
   "source": [
    "print(\"EVALUATION\")\n",
    "model.evaluate(X2_test.values, y2_test.values)"
   ]
  },
  {
   "cell_type": "code",
   "execution_count": 39,
   "metadata": {},
   "outputs": [
    {
     "name": "stdout",
     "output_type": "stream",
     "text": [
      "Epoch 1/10\n",
      "19319/19319 [==============================] - 26s 1ms/step - loss: 0.4170 - accuracy: 0.8115\n",
      "Epoch 2/10\n",
      "19319/19319 [==============================] - 26s 1ms/step - loss: 0.4119 - accuracy: 0.8144\n",
      "Epoch 3/10\n",
      "19319/19319 [==============================] - 26s 1ms/step - loss: 0.4097 - accuracy: 0.8163\n",
      "Epoch 4/10\n",
      "19319/19319 [==============================] - 26s 1ms/step - loss: 0.4096 - accuracy: 0.8159\n",
      "Epoch 5/10\n",
      "19319/19319 [==============================] - 26s 1ms/step - loss: 0.4086 - accuracy: 0.8171\n",
      "Epoch 6/10\n",
      "19319/19319 [==============================] - 26s 1ms/step - loss: 0.4086 - accuracy: 0.8166\n",
      "Epoch 7/10\n",
      "19319/19319 [==============================] - 26s 1ms/step - loss: 0.4078 - accuracy: 0.8174\n",
      "Epoch 8/10\n",
      "19319/19319 [==============================] - 28s 1ms/step - loss: 0.4082 - accuracy: 0.8169\n",
      "Epoch 9/10\n",
      "19319/19319 [==============================] - 32s 2ms/step - loss: 0.4074 - accuracy: 0.8170\n",
      "Epoch 10/10\n",
      "19319/19319 [==============================] - 36s 2ms/step - loss: 0.4071 - accuracy: 0.8184\n"
     ]
    },
    {
     "data": {
      "text/plain": [
       "<tensorflow.python.keras.callbacks.History at 0x20c264c8400>"
      ]
     },
     "execution_count": 39,
     "metadata": {},
     "output_type": "execute_result"
    }
   ],
   "source": [
    "# Fit for CVDSTRK3\n",
    "model.fit(X3_os.values, y3_os.values, batch_size=16, epochs=10)"
   ]
  },
  {
   "cell_type": "code",
   "execution_count": 40,
   "metadata": {
    "scrolled": true
   },
   "outputs": [
    {
     "name": "stdout",
     "output_type": "stream",
     "text": [
      "EVALUATION\n",
      "2161/2161 [==============================] - 2s 1ms/step - loss: 0.5278 - accuracy: 0.7352\n"
     ]
    },
    {
     "data": {
      "text/plain": [
       "[0.5277618765830994, 0.7351685762405396]"
      ]
     },
     "execution_count": 40,
     "metadata": {},
     "output_type": "execute_result"
    }
   ],
   "source": [
    "print(\"EVALUATION\")\n",
    "model.evaluate(X3_test.values, y3_test.values)"
   ]
  },
  {
   "cell_type": "code",
   "execution_count": 41,
   "metadata": {},
   "outputs": [
    {
     "name": "stdout",
     "output_type": "stream",
     "text": [
      "Epoch 1/10\n",
      "17268/17268 [==============================] - 31s 2ms/step - loss: 0.4520 - accuracy: 0.7932\n",
      "Epoch 2/10\n",
      "17268/17268 [==============================] - 29s 2ms/step - loss: 0.4444 - accuracy: 0.7966\n",
      "Epoch 3/10\n",
      "17268/17268 [==============================] - 24s 1ms/step - loss: 0.4410 - accuracy: 0.7980\n",
      "Epoch 4/10\n",
      "17268/17268 [==============================] - 23s 1ms/step - loss: 0.4392 - accuracy: 0.7994\n",
      "Epoch 5/10\n",
      "17268/17268 [==============================] - 22s 1ms/step - loss: 0.4387 - accuracy: 0.7991\n",
      "Epoch 6/10\n",
      "17268/17268 [==============================] - 22s 1ms/step - loss: 0.4379 - accuracy: 0.7996\n",
      "Epoch 7/10\n",
      "17268/17268 [==============================] - 22s 1ms/step - loss: 0.4372 - accuracy: 0.8008\n",
      "Epoch 8/10\n",
      "17268/17268 [==============================] - 22s 1ms/step - loss: 0.4370 - accuracy: 0.7997\n",
      "Epoch 9/10\n",
      "17268/17268 [==============================] - 22s 1ms/step - loss: 0.4365 - accuracy: 0.8006\n",
      "Epoch 10/10\n",
      "17268/17268 [==============================] - 23s 1ms/step - loss: 0.4361 - accuracy: 0.8010\n"
     ]
    },
    {
     "data": {
      "text/plain": [
       "<tensorflow.python.keras.callbacks.History at 0x20c27887a90>"
      ]
     },
     "execution_count": 41,
     "metadata": {},
     "output_type": "execute_result"
    }
   ],
   "source": [
    "# Fit for DIABETE4\n",
    "model.fit(X4_os.values, y4_os.values, batch_size=16, epochs=10)"
   ]
  },
  {
   "cell_type": "code",
   "execution_count": 42,
   "metadata": {
    "scrolled": true
   },
   "outputs": [
    {
     "name": "stdout",
     "output_type": "stream",
     "text": [
      "EVALUATION\n",
      "2161/2161 [==============================] - 2s 809us/step - loss: 0.5230 - accuracy: 0.7376\n"
     ]
    },
    {
     "data": {
      "text/plain": [
       "[0.5229687094688416, 0.7375699877738953]"
      ]
     },
     "execution_count": 42,
     "metadata": {},
     "output_type": "execute_result"
    }
   ],
   "source": [
    "print(\"EVALUATION\")\n",
    "model.evaluate(X4_test.values, y4_test.values)"
   ]
  },
  {
   "cell_type": "code",
   "execution_count": 51,
   "metadata": {
    "scrolled": true
   },
   "outputs": [
    {
     "ename": "ValueError",
     "evalue": "in user code:\n\n    C:\\ProgramData\\Anaconda3\\lib\\site-packages\\tensorflow\\python\\keras\\engine\\training.py:1478 predict_function  *\n        return step_function(self, iterator)\n    C:\\ProgramData\\Anaconda3\\lib\\site-packages\\tensorflow\\python\\keras\\engine\\training.py:1468 step_function  **\n        outputs = model.distribute_strategy.run(run_step, args=(data,))\n    C:\\ProgramData\\Anaconda3\\lib\\site-packages\\tensorflow\\python\\distribute\\distribute_lib.py:1259 run\n        return self._extended.call_for_each_replica(fn, args=args, kwargs=kwargs)\n    C:\\ProgramData\\Anaconda3\\lib\\site-packages\\tensorflow\\python\\distribute\\distribute_lib.py:2730 call_for_each_replica\n        return self._call_for_each_replica(fn, args, kwargs)\n    C:\\ProgramData\\Anaconda3\\lib\\site-packages\\tensorflow\\python\\distribute\\distribute_lib.py:3417 _call_for_each_replica\n        return fn(*args, **kwargs)\n    C:\\ProgramData\\Anaconda3\\lib\\site-packages\\tensorflow\\python\\keras\\engine\\training.py:1461 run_step  **\n        outputs = model.predict_step(data)\n    C:\\ProgramData\\Anaconda3\\lib\\site-packages\\tensorflow\\python\\keras\\engine\\training.py:1434 predict_step\n        return self(x, training=False)\n    C:\\ProgramData\\Anaconda3\\lib\\site-packages\\tensorflow\\python\\keras\\engine\\base_layer.py:998 __call__\n        input_spec.assert_input_compatibility(self.input_spec, inputs, self.name)\n    C:\\ProgramData\\Anaconda3\\lib\\site-packages\\tensorflow\\python\\keras\\engine\\input_spec.py:255 assert_input_compatibility\n        raise ValueError(\n\n    ValueError: Input 0 of layer sequential is incompatible with the layer: expected axis -1 of input shape to have value 38 but received input with shape (None, 1)\n",
     "output_type": "error",
     "traceback": [
      "\u001b[1;31m---------------------------------------------------------------------------\u001b[0m",
      "\u001b[1;31mValueError\u001b[0m                                Traceback (most recent call last)",
      "\u001b[1;32m<ipython-input-51-1c033f8d408b>\u001b[0m in \u001b[0;36m<module>\u001b[1;34m\u001b[0m\n\u001b[1;32m----> 1\u001b[1;33m \u001b[0mprint\u001b[0m\u001b[1;33m(\u001b[0m\u001b[1;34m\"Prediction\"\u001b[0m\u001b[1;33m,\u001b[0m \u001b[0mnp\u001b[0m\u001b[1;33m.\u001b[0m\u001b[0mround\u001b[0m\u001b[1;33m(\u001b[0m\u001b[0mmodel\u001b[0m\u001b[1;33m.\u001b[0m\u001b[0mpredict\u001b[0m\u001b[1;33m(\u001b[0m\u001b[0mnp\u001b[0m\u001b[1;33m.\u001b[0m\u001b[0marray\u001b[0m\u001b[1;33m(\u001b[0m\u001b[0mX\u001b[0m\u001b[1;33m.\u001b[0m\u001b[0miloc\u001b[0m\u001b[1;33m[\u001b[0m\u001b[1;36m1\u001b[0m\u001b[1;33m,\u001b[0m\u001b[1;33m:\u001b[0m\u001b[1;33m]\u001b[0m\u001b[1;33m.\u001b[0m\u001b[0mvalues\u001b[0m\u001b[1;33m)\u001b[0m\u001b[1;33m)\u001b[0m\u001b[1;33m)\u001b[0m\u001b[1;33m)\u001b[0m\u001b[1;33m\u001b[0m\u001b[1;33m\u001b[0m\u001b[0m\n\u001b[0m\u001b[0;32m      2\u001b[0m \u001b[1;31m# print(\"Prediction\", np.round(model.predict(np.array([[0,3]]))))\u001b[0m\u001b[1;33m\u001b[0m\u001b[1;33m\u001b[0m\u001b[1;33m\u001b[0m\u001b[0m\n",
      "\u001b[1;32mC:\\ProgramData\\Anaconda3\\lib\\site-packages\\tensorflow\\python\\keras\\engine\\training.py\u001b[0m in \u001b[0;36mpredict\u001b[1;34m(self, x, batch_size, verbose, steps, callbacks, max_queue_size, workers, use_multiprocessing)\u001b[0m\n\u001b[0;32m   1627\u001b[0m           \u001b[1;32mfor\u001b[0m \u001b[0mstep\u001b[0m \u001b[1;32min\u001b[0m \u001b[0mdata_handler\u001b[0m\u001b[1;33m.\u001b[0m\u001b[0msteps\u001b[0m\u001b[1;33m(\u001b[0m\u001b[1;33m)\u001b[0m\u001b[1;33m:\u001b[0m\u001b[1;33m\u001b[0m\u001b[1;33m\u001b[0m\u001b[0m\n\u001b[0;32m   1628\u001b[0m             \u001b[0mcallbacks\u001b[0m\u001b[1;33m.\u001b[0m\u001b[0mon_predict_batch_begin\u001b[0m\u001b[1;33m(\u001b[0m\u001b[0mstep\u001b[0m\u001b[1;33m)\u001b[0m\u001b[1;33m\u001b[0m\u001b[1;33m\u001b[0m\u001b[0m\n\u001b[1;32m-> 1629\u001b[1;33m             \u001b[0mtmp_batch_outputs\u001b[0m \u001b[1;33m=\u001b[0m \u001b[0mself\u001b[0m\u001b[1;33m.\u001b[0m\u001b[0mpredict_function\u001b[0m\u001b[1;33m(\u001b[0m\u001b[0miterator\u001b[0m\u001b[1;33m)\u001b[0m\u001b[1;33m\u001b[0m\u001b[1;33m\u001b[0m\u001b[0m\n\u001b[0m\u001b[0;32m   1630\u001b[0m             \u001b[1;32mif\u001b[0m \u001b[0mdata_handler\u001b[0m\u001b[1;33m.\u001b[0m\u001b[0mshould_sync\u001b[0m\u001b[1;33m:\u001b[0m\u001b[1;33m\u001b[0m\u001b[1;33m\u001b[0m\u001b[0m\n\u001b[0;32m   1631\u001b[0m               \u001b[0mcontext\u001b[0m\u001b[1;33m.\u001b[0m\u001b[0masync_wait\u001b[0m\u001b[1;33m(\u001b[0m\u001b[1;33m)\u001b[0m\u001b[1;33m\u001b[0m\u001b[1;33m\u001b[0m\u001b[0m\n",
      "\u001b[1;32mC:\\ProgramData\\Anaconda3\\lib\\site-packages\\tensorflow\\python\\eager\\def_function.py\u001b[0m in \u001b[0;36m__call__\u001b[1;34m(self, *args, **kwds)\u001b[0m\n\u001b[0;32m    826\u001b[0m     \u001b[0mtracing_count\u001b[0m \u001b[1;33m=\u001b[0m \u001b[0mself\u001b[0m\u001b[1;33m.\u001b[0m\u001b[0mexperimental_get_tracing_count\u001b[0m\u001b[1;33m(\u001b[0m\u001b[1;33m)\u001b[0m\u001b[1;33m\u001b[0m\u001b[1;33m\u001b[0m\u001b[0m\n\u001b[0;32m    827\u001b[0m     \u001b[1;32mwith\u001b[0m \u001b[0mtrace\u001b[0m\u001b[1;33m.\u001b[0m\u001b[0mTrace\u001b[0m\u001b[1;33m(\u001b[0m\u001b[0mself\u001b[0m\u001b[1;33m.\u001b[0m\u001b[0m_name\u001b[0m\u001b[1;33m)\u001b[0m \u001b[1;32mas\u001b[0m \u001b[0mtm\u001b[0m\u001b[1;33m:\u001b[0m\u001b[1;33m\u001b[0m\u001b[1;33m\u001b[0m\u001b[0m\n\u001b[1;32m--> 828\u001b[1;33m       \u001b[0mresult\u001b[0m \u001b[1;33m=\u001b[0m \u001b[0mself\u001b[0m\u001b[1;33m.\u001b[0m\u001b[0m_call\u001b[0m\u001b[1;33m(\u001b[0m\u001b[1;33m*\u001b[0m\u001b[0margs\u001b[0m\u001b[1;33m,\u001b[0m \u001b[1;33m**\u001b[0m\u001b[0mkwds\u001b[0m\u001b[1;33m)\u001b[0m\u001b[1;33m\u001b[0m\u001b[1;33m\u001b[0m\u001b[0m\n\u001b[0m\u001b[0;32m    829\u001b[0m       \u001b[0mcompiler\u001b[0m \u001b[1;33m=\u001b[0m \u001b[1;34m\"xla\"\u001b[0m \u001b[1;32mif\u001b[0m \u001b[0mself\u001b[0m\u001b[1;33m.\u001b[0m\u001b[0m_experimental_compile\u001b[0m \u001b[1;32melse\u001b[0m \u001b[1;34m\"nonXla\"\u001b[0m\u001b[1;33m\u001b[0m\u001b[1;33m\u001b[0m\u001b[0m\n\u001b[0;32m    830\u001b[0m       \u001b[0mnew_tracing_count\u001b[0m \u001b[1;33m=\u001b[0m \u001b[0mself\u001b[0m\u001b[1;33m.\u001b[0m\u001b[0mexperimental_get_tracing_count\u001b[0m\u001b[1;33m(\u001b[0m\u001b[1;33m)\u001b[0m\u001b[1;33m\u001b[0m\u001b[1;33m\u001b[0m\u001b[0m\n",
      "\u001b[1;32mC:\\ProgramData\\Anaconda3\\lib\\site-packages\\tensorflow\\python\\eager\\def_function.py\u001b[0m in \u001b[0;36m_call\u001b[1;34m(self, *args, **kwds)\u001b[0m\n\u001b[0;32m    860\u001b[0m       \u001b[1;31m# In this case we have not created variables on the first call. So we can\u001b[0m\u001b[1;33m\u001b[0m\u001b[1;33m\u001b[0m\u001b[1;33m\u001b[0m\u001b[0m\n\u001b[0;32m    861\u001b[0m       \u001b[1;31m# run the first trace but we should fail if variables are created.\u001b[0m\u001b[1;33m\u001b[0m\u001b[1;33m\u001b[0m\u001b[1;33m\u001b[0m\u001b[0m\n\u001b[1;32m--> 862\u001b[1;33m       \u001b[0mresults\u001b[0m \u001b[1;33m=\u001b[0m \u001b[0mself\u001b[0m\u001b[1;33m.\u001b[0m\u001b[0m_stateful_fn\u001b[0m\u001b[1;33m(\u001b[0m\u001b[1;33m*\u001b[0m\u001b[0margs\u001b[0m\u001b[1;33m,\u001b[0m \u001b[1;33m**\u001b[0m\u001b[0mkwds\u001b[0m\u001b[1;33m)\u001b[0m\u001b[1;33m\u001b[0m\u001b[1;33m\u001b[0m\u001b[0m\n\u001b[0m\u001b[0;32m    863\u001b[0m       \u001b[1;32mif\u001b[0m \u001b[0mself\u001b[0m\u001b[1;33m.\u001b[0m\u001b[0m_created_variables\u001b[0m\u001b[1;33m:\u001b[0m\u001b[1;33m\u001b[0m\u001b[1;33m\u001b[0m\u001b[0m\n\u001b[0;32m    864\u001b[0m         raise ValueError(\"Creating variables on a non-first call to a function\"\n",
      "\u001b[1;32mC:\\ProgramData\\Anaconda3\\lib\\site-packages\\tensorflow\\python\\eager\\function.py\u001b[0m in \u001b[0;36m__call__\u001b[1;34m(self, *args, **kwargs)\u001b[0m\n\u001b[0;32m   2939\u001b[0m     \u001b[1;32mwith\u001b[0m \u001b[0mself\u001b[0m\u001b[1;33m.\u001b[0m\u001b[0m_lock\u001b[0m\u001b[1;33m:\u001b[0m\u001b[1;33m\u001b[0m\u001b[1;33m\u001b[0m\u001b[0m\n\u001b[0;32m   2940\u001b[0m       (graph_function,\n\u001b[1;32m-> 2941\u001b[1;33m        filtered_flat_args) = self._maybe_define_function(args, kwargs)\n\u001b[0m\u001b[0;32m   2942\u001b[0m     return graph_function._call_flat(\n\u001b[0;32m   2943\u001b[0m         filtered_flat_args, captured_inputs=graph_function.captured_inputs)  # pylint: disable=protected-access\n",
      "\u001b[1;32mC:\\ProgramData\\Anaconda3\\lib\\site-packages\\tensorflow\\python\\eager\\function.py\u001b[0m in \u001b[0;36m_maybe_define_function\u001b[1;34m(self, args, kwargs)\u001b[0m\n\u001b[0;32m   3355\u001b[0m               \u001b[0mself\u001b[0m\u001b[1;33m.\u001b[0m\u001b[0minput_signature\u001b[0m \u001b[1;32mis\u001b[0m \u001b[1;32mNone\u001b[0m \u001b[1;32mand\u001b[0m\u001b[1;33m\u001b[0m\u001b[1;33m\u001b[0m\u001b[0m\n\u001b[0;32m   3356\u001b[0m               call_context_key in self._function_cache.missed):\n\u001b[1;32m-> 3357\u001b[1;33m             return self._define_function_with_shape_relaxation(\n\u001b[0m\u001b[0;32m   3358\u001b[0m                 args, kwargs, flat_args, filtered_flat_args, cache_key_context)\n\u001b[0;32m   3359\u001b[0m \u001b[1;33m\u001b[0m\u001b[0m\n",
      "\u001b[1;32mC:\\ProgramData\\Anaconda3\\lib\\site-packages\\tensorflow\\python\\eager\\function.py\u001b[0m in \u001b[0;36m_define_function_with_shape_relaxation\u001b[1;34m(self, args, kwargs, flat_args, filtered_flat_args, cache_key_context)\u001b[0m\n\u001b[0;32m   3277\u001b[0m           expand_composites=True)\n\u001b[0;32m   3278\u001b[0m \u001b[1;33m\u001b[0m\u001b[0m\n\u001b[1;32m-> 3279\u001b[1;33m     graph_function = self._create_graph_function(\n\u001b[0m\u001b[0;32m   3280\u001b[0m         args, kwargs, override_flat_arg_shapes=relaxed_arg_shapes)\n\u001b[0;32m   3281\u001b[0m     \u001b[0mself\u001b[0m\u001b[1;33m.\u001b[0m\u001b[0m_function_cache\u001b[0m\u001b[1;33m.\u001b[0m\u001b[0marg_relaxed\u001b[0m\u001b[1;33m[\u001b[0m\u001b[0mrank_only_cache_key\u001b[0m\u001b[1;33m]\u001b[0m \u001b[1;33m=\u001b[0m \u001b[0mgraph_function\u001b[0m\u001b[1;33m\u001b[0m\u001b[1;33m\u001b[0m\u001b[0m\n",
      "\u001b[1;32mC:\\ProgramData\\Anaconda3\\lib\\site-packages\\tensorflow\\python\\eager\\function.py\u001b[0m in \u001b[0;36m_create_graph_function\u001b[1;34m(self, args, kwargs, override_flat_arg_shapes)\u001b[0m\n\u001b[0;32m   3194\u001b[0m     \u001b[0marg_names\u001b[0m \u001b[1;33m=\u001b[0m \u001b[0mbase_arg_names\u001b[0m \u001b[1;33m+\u001b[0m \u001b[0mmissing_arg_names\u001b[0m\u001b[1;33m\u001b[0m\u001b[1;33m\u001b[0m\u001b[0m\n\u001b[0;32m   3195\u001b[0m     graph_function = ConcreteFunction(\n\u001b[1;32m-> 3196\u001b[1;33m         func_graph_module.func_graph_from_py_func(\n\u001b[0m\u001b[0;32m   3197\u001b[0m             \u001b[0mself\u001b[0m\u001b[1;33m.\u001b[0m\u001b[0m_name\u001b[0m\u001b[1;33m,\u001b[0m\u001b[1;33m\u001b[0m\u001b[1;33m\u001b[0m\u001b[0m\n\u001b[0;32m   3198\u001b[0m             \u001b[0mself\u001b[0m\u001b[1;33m.\u001b[0m\u001b[0m_python_function\u001b[0m\u001b[1;33m,\u001b[0m\u001b[1;33m\u001b[0m\u001b[1;33m\u001b[0m\u001b[0m\n",
      "\u001b[1;32mC:\\ProgramData\\Anaconda3\\lib\\site-packages\\tensorflow\\python\\framework\\func_graph.py\u001b[0m in \u001b[0;36mfunc_graph_from_py_func\u001b[1;34m(name, python_func, args, kwargs, signature, func_graph, autograph, autograph_options, add_control_dependencies, arg_names, op_return_value, collections, capture_by_value, override_flat_arg_shapes)\u001b[0m\n\u001b[0;32m    988\u001b[0m         \u001b[0m_\u001b[0m\u001b[1;33m,\u001b[0m \u001b[0moriginal_func\u001b[0m \u001b[1;33m=\u001b[0m \u001b[0mtf_decorator\u001b[0m\u001b[1;33m.\u001b[0m\u001b[0munwrap\u001b[0m\u001b[1;33m(\u001b[0m\u001b[0mpython_func\u001b[0m\u001b[1;33m)\u001b[0m\u001b[1;33m\u001b[0m\u001b[1;33m\u001b[0m\u001b[0m\n\u001b[0;32m    989\u001b[0m \u001b[1;33m\u001b[0m\u001b[0m\n\u001b[1;32m--> 990\u001b[1;33m       \u001b[0mfunc_outputs\u001b[0m \u001b[1;33m=\u001b[0m \u001b[0mpython_func\u001b[0m\u001b[1;33m(\u001b[0m\u001b[1;33m*\u001b[0m\u001b[0mfunc_args\u001b[0m\u001b[1;33m,\u001b[0m \u001b[1;33m**\u001b[0m\u001b[0mfunc_kwargs\u001b[0m\u001b[1;33m)\u001b[0m\u001b[1;33m\u001b[0m\u001b[1;33m\u001b[0m\u001b[0m\n\u001b[0m\u001b[0;32m    991\u001b[0m \u001b[1;33m\u001b[0m\u001b[0m\n\u001b[0;32m    992\u001b[0m       \u001b[1;31m# invariant: `func_outputs` contains only Tensors, CompositeTensors,\u001b[0m\u001b[1;33m\u001b[0m\u001b[1;33m\u001b[0m\u001b[1;33m\u001b[0m\u001b[0m\n",
      "\u001b[1;32mC:\\ProgramData\\Anaconda3\\lib\\site-packages\\tensorflow\\python\\eager\\def_function.py\u001b[0m in \u001b[0;36mwrapped_fn\u001b[1;34m(*args, **kwds)\u001b[0m\n\u001b[0;32m    632\u001b[0m             \u001b[0mxla_context\u001b[0m\u001b[1;33m.\u001b[0m\u001b[0mExit\u001b[0m\u001b[1;33m(\u001b[0m\u001b[1;33m)\u001b[0m\u001b[1;33m\u001b[0m\u001b[1;33m\u001b[0m\u001b[0m\n\u001b[0;32m    633\u001b[0m         \u001b[1;32melse\u001b[0m\u001b[1;33m:\u001b[0m\u001b[1;33m\u001b[0m\u001b[1;33m\u001b[0m\u001b[0m\n\u001b[1;32m--> 634\u001b[1;33m           \u001b[0mout\u001b[0m \u001b[1;33m=\u001b[0m \u001b[0mweak_wrapped_fn\u001b[0m\u001b[1;33m(\u001b[0m\u001b[1;33m)\u001b[0m\u001b[1;33m.\u001b[0m\u001b[0m__wrapped__\u001b[0m\u001b[1;33m(\u001b[0m\u001b[1;33m*\u001b[0m\u001b[0margs\u001b[0m\u001b[1;33m,\u001b[0m \u001b[1;33m**\u001b[0m\u001b[0mkwds\u001b[0m\u001b[1;33m)\u001b[0m\u001b[1;33m\u001b[0m\u001b[1;33m\u001b[0m\u001b[0m\n\u001b[0m\u001b[0;32m    635\u001b[0m         \u001b[1;32mreturn\u001b[0m \u001b[0mout\u001b[0m\u001b[1;33m\u001b[0m\u001b[1;33m\u001b[0m\u001b[0m\n\u001b[0;32m    636\u001b[0m \u001b[1;33m\u001b[0m\u001b[0m\n",
      "\u001b[1;32mC:\\ProgramData\\Anaconda3\\lib\\site-packages\\tensorflow\\python\\framework\\func_graph.py\u001b[0m in \u001b[0;36mwrapper\u001b[1;34m(*args, **kwargs)\u001b[0m\n\u001b[0;32m    975\u001b[0m           \u001b[1;32mexcept\u001b[0m \u001b[0mException\u001b[0m \u001b[1;32mas\u001b[0m \u001b[0me\u001b[0m\u001b[1;33m:\u001b[0m  \u001b[1;31m# pylint:disable=broad-except\u001b[0m\u001b[1;33m\u001b[0m\u001b[1;33m\u001b[0m\u001b[0m\n\u001b[0;32m    976\u001b[0m             \u001b[1;32mif\u001b[0m \u001b[0mhasattr\u001b[0m\u001b[1;33m(\u001b[0m\u001b[0me\u001b[0m\u001b[1;33m,\u001b[0m \u001b[1;34m\"ag_error_metadata\"\u001b[0m\u001b[1;33m)\u001b[0m\u001b[1;33m:\u001b[0m\u001b[1;33m\u001b[0m\u001b[1;33m\u001b[0m\u001b[0m\n\u001b[1;32m--> 977\u001b[1;33m               \u001b[1;32mraise\u001b[0m \u001b[0me\u001b[0m\u001b[1;33m.\u001b[0m\u001b[0mag_error_metadata\u001b[0m\u001b[1;33m.\u001b[0m\u001b[0mto_exception\u001b[0m\u001b[1;33m(\u001b[0m\u001b[0me\u001b[0m\u001b[1;33m)\u001b[0m\u001b[1;33m\u001b[0m\u001b[1;33m\u001b[0m\u001b[0m\n\u001b[0m\u001b[0;32m    978\u001b[0m             \u001b[1;32melse\u001b[0m\u001b[1;33m:\u001b[0m\u001b[1;33m\u001b[0m\u001b[1;33m\u001b[0m\u001b[0m\n\u001b[0;32m    979\u001b[0m               \u001b[1;32mraise\u001b[0m\u001b[1;33m\u001b[0m\u001b[1;33m\u001b[0m\u001b[0m\n",
      "\u001b[1;31mValueError\u001b[0m: in user code:\n\n    C:\\ProgramData\\Anaconda3\\lib\\site-packages\\tensorflow\\python\\keras\\engine\\training.py:1478 predict_function  *\n        return step_function(self, iterator)\n    C:\\ProgramData\\Anaconda3\\lib\\site-packages\\tensorflow\\python\\keras\\engine\\training.py:1468 step_function  **\n        outputs = model.distribute_strategy.run(run_step, args=(data,))\n    C:\\ProgramData\\Anaconda3\\lib\\site-packages\\tensorflow\\python\\distribute\\distribute_lib.py:1259 run\n        return self._extended.call_for_each_replica(fn, args=args, kwargs=kwargs)\n    C:\\ProgramData\\Anaconda3\\lib\\site-packages\\tensorflow\\python\\distribute\\distribute_lib.py:2730 call_for_each_replica\n        return self._call_for_each_replica(fn, args, kwargs)\n    C:\\ProgramData\\Anaconda3\\lib\\site-packages\\tensorflow\\python\\distribute\\distribute_lib.py:3417 _call_for_each_replica\n        return fn(*args, **kwargs)\n    C:\\ProgramData\\Anaconda3\\lib\\site-packages\\tensorflow\\python\\keras\\engine\\training.py:1461 run_step  **\n        outputs = model.predict_step(data)\n    C:\\ProgramData\\Anaconda3\\lib\\site-packages\\tensorflow\\python\\keras\\engine\\training.py:1434 predict_step\n        return self(x, training=False)\n    C:\\ProgramData\\Anaconda3\\lib\\site-packages\\tensorflow\\python\\keras\\engine\\base_layer.py:998 __call__\n        input_spec.assert_input_compatibility(self.input_spec, inputs, self.name)\n    C:\\ProgramData\\Anaconda3\\lib\\site-packages\\tensorflow\\python\\keras\\engine\\input_spec.py:255 assert_input_compatibility\n        raise ValueError(\n\n    ValueError: Input 0 of layer sequential is incompatible with the layer: expected axis -1 of input shape to have value 38 but received input with shape (None, 1)\n"
     ]
    }
   ],
   "source": [
    "print(\"Prediction\", np.round(model.predict(np.array(X.iloc[1,:].values))))\n",
    "# print(\"Prediction\", np.round(model.predict(np.array([[0,3]]))))"
   ]
  },
  {
   "cell_type": "code",
   "execution_count": 52,
   "metadata": {
    "collapsed": true
   },
   "outputs": [
    {
     "data": {
      "text/plain": [
       "(38,)"
      ]
     },
     "execution_count": 52,
     "metadata": {},
     "output_type": "execute_result"
    }
   ],
   "source": [
    "X.iloc[1,:].shape"
   ]
  },
  {
   "cell_type": "markdown",
   "metadata": {},
   "source": [
    "# LIME"
   ]
  },
  {
   "cell_type": "code",
   "execution_count": null,
   "metadata": {},
   "outputs": [],
   "source": [
    "from lime import lime_tabular"
   ]
  },
  {
   "cell_type": "code",
   "execution_count": null,
   "metadata": {},
   "outputs": [],
   "source": [
    "explainer = lime_tabular.LimeTabularExplainer(\n",
    "    training_data = ,\n",
    "    mode = \"classification\",\n",
    "    feature_names = x,\n",
    "    categorical_features = y )"
   ]
  },
  {
   "cell_type": "code",
   "execution_count": null,
   "metadata": {},
   "outputs": [],
   "source": [
    "exp = explain_instance(data_row = X_test.iloc[4],\n",
    "                      predict_fn = model.predict)\n",
    "exp.show_in_notebook(show_table = True)"
   ]
  }
 ],
 "metadata": {
  "kernelspec": {
   "display_name": "Python 3",
   "language": "python",
   "name": "python3"
  },
  "language_info": {
   "codemirror_mode": {
    "name": "ipython",
    "version": 3
   },
   "file_extension": ".py",
   "mimetype": "text/x-python",
   "name": "python",
   "nbconvert_exporter": "python",
   "pygments_lexer": "ipython3",
   "version": "3.8.3"
  }
 },
 "nbformat": 4,
 "nbformat_minor": 4
}
